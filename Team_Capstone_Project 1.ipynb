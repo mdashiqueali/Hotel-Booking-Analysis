{
  "nbformat": 4,
  "nbformat_minor": 0,
  "metadata": {
    "kernelspec": {
      "display_name": "Python 3",
      "language": "python",
      "name": "python3"
    },
    "language_info": {
      "codemirror_mode": {
        "name": "ipython",
        "version": 3
      },
      "file_extension": ".py",
      "mimetype": "text/x-python",
      "name": "python",
      "nbconvert_exporter": "python",
      "pygments_lexer": "ipython3",
      "version": "3.6.6"
    },
    "colab": {
      "provenance": [],
      "collapsed_sections": [],
      "include_colab_link": true
    }
  },
  "cells": [
    {
      "cell_type": "markdown",
      "metadata": {
        "id": "view-in-github",
        "colab_type": "text"
      },
      "source": [
        "<a href=\"https://colab.research.google.com/github/mdashiqueali/Hotel-Booking-Analysis/blob/main/Team_Capstone_Project%201.ipynb\" target=\"_parent\"><img src=\"https://colab.research.google.com/assets/colab-badge.svg\" alt=\"Open In Colab\"/></a>"
      ]
    },
    {
      "cell_type": "markdown",
      "metadata": {
        "id": "Y06xIdG26kRF"
      },
      "source": [
        "## <b> Have you ever wondered when the best time of year to book a hotel room is? Or the optimal length of stay in order to get the best daily rate? What if you wanted to predict whether or not a hotel was likely to receive a disproportionately high number of special requests? This hotel booking dataset can help you explore those questions!\n",
        "\n",
        "## <b>This data set contains booking information for a city hotel and a resort hotel, and includes information such as when the booking was made, length of stay, the number of adults, children, and/or babies, and the number of available parking spaces, among other things. All personally identifying information has been removed from the data. </b>\n",
        "\n",
        "## <b> Explore and analyze the data to discover important factors that govern the bookings. </b>"
      ]
    },
    {
      "cell_type": "markdown",
      "source": [
        "Let's try to answer the following questions\n",
        "\n",
        "1:What will the overview of arrival period?\n",
        "\n",
        "2:From which country most guests come?\n",
        "\n",
        "3:Which room type is most booked?\n",
        "\n",
        "4:Find the Distribution channel with high cancelation_percentage(%)?\n",
        "\n",
        "5:Which meal type is most preffered meal of customers?\n",
        "\n",
        "6:Obtain the number of Adults reserving , and the number of Families with children reserving\n",
        "\n",
        "7:What is percentage of bookings in each hotel?\n",
        "\n",
        "8: Which agent makes most no. of bookings?\n",
        "\n",
        "9:What is the percentage of the repeated customers?\n",
        "\n",
        "10:What is preferred stay length in each hotel?\n",
        "\n",
        "11: Which hotel has high chance that its customer will return for another stay?"
      ],
      "metadata": {
        "id": "enfpJzpdwXOF"
      }
    },
    {
      "cell_type": "code",
      "metadata": {
        "id": "dByMsuzT8Tnw"
      },
      "source": [
        "#Importing libraries\n",
        "import numpy as np\n",
        "import pandas as pd\n",
        "import matplotlib\n",
        "import matplotlib.pyplot as plt\n",
        "import seaborn as sns\n",
        "%matplotlib inline"
      ],
      "execution_count": null,
      "outputs": []
    },
    {
      "cell_type": "code",
      "source": [
        "#Mounting drive\n",
        "from google.colab import drive\n",
        "drive.mount('/content/drive')"
      ],
      "metadata": {
        "id": "-QxqIU2Q386x",
        "outputId": "f6ab7568-2515-4a22-c73a-39b701e7f0e1",
        "colab": {
          "base_uri": "https://localhost:8080/"
        }
      },
      "execution_count": null,
      "outputs": [
        {
          "output_type": "stream",
          "name": "stdout",
          "text": [
            "Drive already mounted at /content/drive; to attempt to forcibly remount, call drive.mount(\"/content/drive\", force_remount=True).\n"
          ]
        }
      ]
    },
    {
      "cell_type": "code",
      "source": [
        "#Reading the data from the dataset \n",
        "file_path='/content/drive/MyDrive/Copy of Hotel Bookings.csv'\n",
        "df_hotel_booking=pd.read_csv(file_path)\n"
      ],
      "metadata": {
        "id": "GeQJlD4k4NYJ"
      },
      "execution_count": null,
      "outputs": []
    },
    {
      "cell_type": "code",
      "source": [
        "#Looking at the data\n",
        "df_hotel_booking.head()"
      ],
      "metadata": {
        "id": "BwtEf-xw4Y3y",
        "outputId": "051c4c54-fddf-4209-cf8f-d2b836658746",
        "colab": {
          "base_uri": "https://localhost:8080/",
          "height": 386
        }
      },
      "execution_count": null,
      "outputs": [
        {
          "output_type": "execute_result",
          "data": {
            "text/plain": [
              "          hotel  is_canceled  lead_time  arrival_date_year arrival_date_month  \\\n",
              "0  Resort Hotel            0        342               2015               July   \n",
              "1  Resort Hotel            0        737               2015               July   \n",
              "2  Resort Hotel            0          7               2015               July   \n",
              "3  Resort Hotel            0         13               2015               July   \n",
              "4  Resort Hotel            0         14               2015               July   \n",
              "\n",
              "   arrival_date_week_number  arrival_date_day_of_month  \\\n",
              "0                        27                          1   \n",
              "1                        27                          1   \n",
              "2                        27                          1   \n",
              "3                        27                          1   \n",
              "4                        27                          1   \n",
              "\n",
              "   stays_in_weekend_nights  stays_in_week_nights  adults  ...  deposit_type  \\\n",
              "0                        0                     0       2  ...    No Deposit   \n",
              "1                        0                     0       2  ...    No Deposit   \n",
              "2                        0                     1       1  ...    No Deposit   \n",
              "3                        0                     1       1  ...    No Deposit   \n",
              "4                        0                     2       2  ...    No Deposit   \n",
              "\n",
              "   agent company days_in_waiting_list customer_type   adr  \\\n",
              "0    NaN     NaN                    0     Transient   0.0   \n",
              "1    NaN     NaN                    0     Transient   0.0   \n",
              "2    NaN     NaN                    0     Transient  75.0   \n",
              "3  304.0     NaN                    0     Transient  75.0   \n",
              "4  240.0     NaN                    0     Transient  98.0   \n",
              "\n",
              "   required_car_parking_spaces  total_of_special_requests  reservation_status  \\\n",
              "0                            0                          0           Check-Out   \n",
              "1                            0                          0           Check-Out   \n",
              "2                            0                          0           Check-Out   \n",
              "3                            0                          0           Check-Out   \n",
              "4                            0                          1           Check-Out   \n",
              "\n",
              "  reservation_status_date  \n",
              "0              2015-07-01  \n",
              "1              2015-07-01  \n",
              "2              2015-07-02  \n",
              "3              2015-07-02  \n",
              "4              2015-07-03  \n",
              "\n",
              "[5 rows x 32 columns]"
            ],
            "text/html": [
              "\n",
              "  <div id=\"df-36aa4a98-306f-41c2-bf86-a09ccbac2aa0\">\n",
              "    <div class=\"colab-df-container\">\n",
              "      <div>\n",
              "<style scoped>\n",
              "    .dataframe tbody tr th:only-of-type {\n",
              "        vertical-align: middle;\n",
              "    }\n",
              "\n",
              "    .dataframe tbody tr th {\n",
              "        vertical-align: top;\n",
              "    }\n",
              "\n",
              "    .dataframe thead th {\n",
              "        text-align: right;\n",
              "    }\n",
              "</style>\n",
              "<table border=\"1\" class=\"dataframe\">\n",
              "  <thead>\n",
              "    <tr style=\"text-align: right;\">\n",
              "      <th></th>\n",
              "      <th>hotel</th>\n",
              "      <th>is_canceled</th>\n",
              "      <th>lead_time</th>\n",
              "      <th>arrival_date_year</th>\n",
              "      <th>arrival_date_month</th>\n",
              "      <th>arrival_date_week_number</th>\n",
              "      <th>arrival_date_day_of_month</th>\n",
              "      <th>stays_in_weekend_nights</th>\n",
              "      <th>stays_in_week_nights</th>\n",
              "      <th>adults</th>\n",
              "      <th>...</th>\n",
              "      <th>deposit_type</th>\n",
              "      <th>agent</th>\n",
              "      <th>company</th>\n",
              "      <th>days_in_waiting_list</th>\n",
              "      <th>customer_type</th>\n",
              "      <th>adr</th>\n",
              "      <th>required_car_parking_spaces</th>\n",
              "      <th>total_of_special_requests</th>\n",
              "      <th>reservation_status</th>\n",
              "      <th>reservation_status_date</th>\n",
              "    </tr>\n",
              "  </thead>\n",
              "  <tbody>\n",
              "    <tr>\n",
              "      <th>0</th>\n",
              "      <td>Resort Hotel</td>\n",
              "      <td>0</td>\n",
              "      <td>342</td>\n",
              "      <td>2015</td>\n",
              "      <td>July</td>\n",
              "      <td>27</td>\n",
              "      <td>1</td>\n",
              "      <td>0</td>\n",
              "      <td>0</td>\n",
              "      <td>2</td>\n",
              "      <td>...</td>\n",
              "      <td>No Deposit</td>\n",
              "      <td>NaN</td>\n",
              "      <td>NaN</td>\n",
              "      <td>0</td>\n",
              "      <td>Transient</td>\n",
              "      <td>0.0</td>\n",
              "      <td>0</td>\n",
              "      <td>0</td>\n",
              "      <td>Check-Out</td>\n",
              "      <td>2015-07-01</td>\n",
              "    </tr>\n",
              "    <tr>\n",
              "      <th>1</th>\n",
              "      <td>Resort Hotel</td>\n",
              "      <td>0</td>\n",
              "      <td>737</td>\n",
              "      <td>2015</td>\n",
              "      <td>July</td>\n",
              "      <td>27</td>\n",
              "      <td>1</td>\n",
              "      <td>0</td>\n",
              "      <td>0</td>\n",
              "      <td>2</td>\n",
              "      <td>...</td>\n",
              "      <td>No Deposit</td>\n",
              "      <td>NaN</td>\n",
              "      <td>NaN</td>\n",
              "      <td>0</td>\n",
              "      <td>Transient</td>\n",
              "      <td>0.0</td>\n",
              "      <td>0</td>\n",
              "      <td>0</td>\n",
              "      <td>Check-Out</td>\n",
              "      <td>2015-07-01</td>\n",
              "    </tr>\n",
              "    <tr>\n",
              "      <th>2</th>\n",
              "      <td>Resort Hotel</td>\n",
              "      <td>0</td>\n",
              "      <td>7</td>\n",
              "      <td>2015</td>\n",
              "      <td>July</td>\n",
              "      <td>27</td>\n",
              "      <td>1</td>\n",
              "      <td>0</td>\n",
              "      <td>1</td>\n",
              "      <td>1</td>\n",
              "      <td>...</td>\n",
              "      <td>No Deposit</td>\n",
              "      <td>NaN</td>\n",
              "      <td>NaN</td>\n",
              "      <td>0</td>\n",
              "      <td>Transient</td>\n",
              "      <td>75.0</td>\n",
              "      <td>0</td>\n",
              "      <td>0</td>\n",
              "      <td>Check-Out</td>\n",
              "      <td>2015-07-02</td>\n",
              "    </tr>\n",
              "    <tr>\n",
              "      <th>3</th>\n",
              "      <td>Resort Hotel</td>\n",
              "      <td>0</td>\n",
              "      <td>13</td>\n",
              "      <td>2015</td>\n",
              "      <td>July</td>\n",
              "      <td>27</td>\n",
              "      <td>1</td>\n",
              "      <td>0</td>\n",
              "      <td>1</td>\n",
              "      <td>1</td>\n",
              "      <td>...</td>\n",
              "      <td>No Deposit</td>\n",
              "      <td>304.0</td>\n",
              "      <td>NaN</td>\n",
              "      <td>0</td>\n",
              "      <td>Transient</td>\n",
              "      <td>75.0</td>\n",
              "      <td>0</td>\n",
              "      <td>0</td>\n",
              "      <td>Check-Out</td>\n",
              "      <td>2015-07-02</td>\n",
              "    </tr>\n",
              "    <tr>\n",
              "      <th>4</th>\n",
              "      <td>Resort Hotel</td>\n",
              "      <td>0</td>\n",
              "      <td>14</td>\n",
              "      <td>2015</td>\n",
              "      <td>July</td>\n",
              "      <td>27</td>\n",
              "      <td>1</td>\n",
              "      <td>0</td>\n",
              "      <td>2</td>\n",
              "      <td>2</td>\n",
              "      <td>...</td>\n",
              "      <td>No Deposit</td>\n",
              "      <td>240.0</td>\n",
              "      <td>NaN</td>\n",
              "      <td>0</td>\n",
              "      <td>Transient</td>\n",
              "      <td>98.0</td>\n",
              "      <td>0</td>\n",
              "      <td>1</td>\n",
              "      <td>Check-Out</td>\n",
              "      <td>2015-07-03</td>\n",
              "    </tr>\n",
              "  </tbody>\n",
              "</table>\n",
              "<p>5 rows × 32 columns</p>\n",
              "</div>\n",
              "      <button class=\"colab-df-convert\" onclick=\"convertToInteractive('df-36aa4a98-306f-41c2-bf86-a09ccbac2aa0')\"\n",
              "              title=\"Convert this dataframe to an interactive table.\"\n",
              "              style=\"display:none;\">\n",
              "        \n",
              "  <svg xmlns=\"http://www.w3.org/2000/svg\" height=\"24px\"viewBox=\"0 0 24 24\"\n",
              "       width=\"24px\">\n",
              "    <path d=\"M0 0h24v24H0V0z\" fill=\"none\"/>\n",
              "    <path d=\"M18.56 5.44l.94 2.06.94-2.06 2.06-.94-2.06-.94-.94-2.06-.94 2.06-2.06.94zm-11 1L8.5 8.5l.94-2.06 2.06-.94-2.06-.94L8.5 2.5l-.94 2.06-2.06.94zm10 10l.94 2.06.94-2.06 2.06-.94-2.06-.94-.94-2.06-.94 2.06-2.06.94z\"/><path d=\"M17.41 7.96l-1.37-1.37c-.4-.4-.92-.59-1.43-.59-.52 0-1.04.2-1.43.59L10.3 9.45l-7.72 7.72c-.78.78-.78 2.05 0 2.83L4 21.41c.39.39.9.59 1.41.59.51 0 1.02-.2 1.41-.59l7.78-7.78 2.81-2.81c.8-.78.8-2.07 0-2.86zM5.41 20L4 18.59l7.72-7.72 1.47 1.35L5.41 20z\"/>\n",
              "  </svg>\n",
              "      </button>\n",
              "      \n",
              "  <style>\n",
              "    .colab-df-container {\n",
              "      display:flex;\n",
              "      flex-wrap:wrap;\n",
              "      gap: 12px;\n",
              "    }\n",
              "\n",
              "    .colab-df-convert {\n",
              "      background-color: #E8F0FE;\n",
              "      border: none;\n",
              "      border-radius: 50%;\n",
              "      cursor: pointer;\n",
              "      display: none;\n",
              "      fill: #1967D2;\n",
              "      height: 32px;\n",
              "      padding: 0 0 0 0;\n",
              "      width: 32px;\n",
              "    }\n",
              "\n",
              "    .colab-df-convert:hover {\n",
              "      background-color: #E2EBFA;\n",
              "      box-shadow: 0px 1px 2px rgba(60, 64, 67, 0.3), 0px 1px 3px 1px rgba(60, 64, 67, 0.15);\n",
              "      fill: #174EA6;\n",
              "    }\n",
              "\n",
              "    [theme=dark] .colab-df-convert {\n",
              "      background-color: #3B4455;\n",
              "      fill: #D2E3FC;\n",
              "    }\n",
              "\n",
              "    [theme=dark] .colab-df-convert:hover {\n",
              "      background-color: #434B5C;\n",
              "      box-shadow: 0px 1px 3px 1px rgba(0, 0, 0, 0.15);\n",
              "      filter: drop-shadow(0px 1px 2px rgba(0, 0, 0, 0.3));\n",
              "      fill: #FFFFFF;\n",
              "    }\n",
              "  </style>\n",
              "\n",
              "      <script>\n",
              "        const buttonEl =\n",
              "          document.querySelector('#df-36aa4a98-306f-41c2-bf86-a09ccbac2aa0 button.colab-df-convert');\n",
              "        buttonEl.style.display =\n",
              "          google.colab.kernel.accessAllowed ? 'block' : 'none';\n",
              "\n",
              "        async function convertToInteractive(key) {\n",
              "          const element = document.querySelector('#df-36aa4a98-306f-41c2-bf86-a09ccbac2aa0');\n",
              "          const dataTable =\n",
              "            await google.colab.kernel.invokeFunction('convertToInteractive',\n",
              "                                                     [key], {});\n",
              "          if (!dataTable) return;\n",
              "\n",
              "          const docLinkHtml = 'Like what you see? Visit the ' +\n",
              "            '<a target=\"_blank\" href=https://colab.research.google.com/notebooks/data_table.ipynb>data table notebook</a>'\n",
              "            + ' to learn more about interactive tables.';\n",
              "          element.innerHTML = '';\n",
              "          dataTable['output_type'] = 'display_data';\n",
              "          await google.colab.output.renderOutput(dataTable, element);\n",
              "          const docLink = document.createElement('div');\n",
              "          docLink.innerHTML = docLinkHtml;\n",
              "          element.appendChild(docLink);\n",
              "        }\n",
              "      </script>\n",
              "    </div>\n",
              "  </div>\n",
              "  "
            ]
          },
          "metadata": {},
          "execution_count": 27
        }
      ]
    },
    {
      "cell_type": "code",
      "source": [
        "df_hotel_booking.columns"
      ],
      "metadata": {
        "id": "DdenU-S878wi",
        "outputId": "c126ef32-b619-4dd9-eaaa-744091542d1c",
        "colab": {
          "base_uri": "https://localhost:8080/"
        }
      },
      "execution_count": null,
      "outputs": [
        {
          "output_type": "execute_result",
          "data": {
            "text/plain": [
              "Index(['hotel', 'is_canceled', 'lead_time', 'arrival_date_year',\n",
              "       'arrival_date_month', 'arrival_date_week_number',\n",
              "       'arrival_date_day_of_month', 'stays_in_weekend_nights',\n",
              "       'stays_in_week_nights', 'adults', 'children', 'babies', 'meal',\n",
              "       'country', 'market_segment', 'distribution_channel',\n",
              "       'is_repeated_guest', 'previous_cancellations',\n",
              "       'previous_bookings_not_canceled', 'reserved_room_type',\n",
              "       'assigned_room_type', 'booking_changes', 'deposit_type', 'agent',\n",
              "       'company', 'days_in_waiting_list', 'customer_type', 'adr',\n",
              "       'required_car_parking_spaces', 'total_of_special_requests',\n",
              "       'reservation_status', 'reservation_status_date'],\n",
              "      dtype='object')"
            ]
          },
          "metadata": {},
          "execution_count": 28
        }
      ]
    },
    {
      "cell_type": "markdown",
      "source": [
        "## **Now lets describe the variables**"
      ],
      "metadata": {
        "id": "5627ZJHs4mwF"
      }
    },
    {
      "cell_type": "markdown",
      "source": [
        "## **Variable Description**\n",
        "\n",
        "**hotel**: Hotel Type\n",
        "\n",
        "**is_canceled**: Value indicating if the booking was canceled\n",
        "\n",
        "**lead_time**: Number of days between the time a guest books their room and the time they are scheduled to arrive at the hotel\n",
        "\n",
        "**arrival_date_year**: Year of arrival date\n",
        "\n",
        "**arrival_date_month**: Month of arrival date with 12 categories “January” to “December”\n",
        "\n",
        "**arrival_date_week_number**: Week number of the arrival date\n",
        "\n",
        "**arrival_date_day_of_month**: Day of the month of the arrival date \n",
        "\n",
        "**stays_in_weekend_nights**: Number of weekend nights (Saturday or Sunday) the guest stayed or booked to stay at the hotel\n",
        "\n",
        "**stays_in_week_nights**: Number of week nights (Monday to Friday) the guest stayed or booked to stay at the hotel\n",
        "\n",
        "**adults**: Number of adults\n",
        "\n",
        "**children**: Number of children\n",
        "\n",
        "**Babies**: Number of babies\n",
        "\n",
        "**meal:** Type of meal booked. Categories are presented in standard hospitality meal packages\n",
        "\n",
        "Undefined/SC – no meal package\n",
        "\n",
        "BB – Bed & Breakfast\n",
        "\n",
        "HB – Half board (breakfast and one other meal – usually dinner)\n",
        "\n",
        "FB – Full board (breakfast, lunch and dinner)\n",
        "\n",
        "**country**: Country of origin.\n",
        "\n",
        "**market_segment**: Market segment designation\n",
        "\n",
        "**distribution_channel**: Booking distribution channel\n",
        "\n",
        "**is_repeated_guest**: Value indicating if the booking name was from a repeated guest\n",
        "\n",
        "**previous_cancellations**: Number of previous bookings that were cancelled by the customer prior to the current booking\n",
        "\n",
        "**previous_bookings_not_canceled**: Number of previous bookings not cancelled by the customer prior to the current booking\n",
        "\n",
        "**reserved_room_type**: Code of room type reserved\n",
        "\n",
        "**assigned_room_type**: Code for the type of room assigned to the booking\n",
        "\n",
        "**booking_changes**: Number of changes/amendments made to the booking from the moment the booking was entered on the PMS until the moment of check-in or cancellation\n",
        "\n",
        "**deposit_type**: Indication on if the customer made a deposit to guarantee the booking. This variable can assume three categories\n",
        "\n",
        "No Deposit – no deposit was made\n",
        "\n",
        "Non Refund – a deposit was made in the value of the total stay\n",
        "\n",
        "Refundable – a deposit was made with a value under the total cost of stay\n",
        "\n",
        "**agent**: ID of the travel agency that made the booking\n",
        "\n",
        "**company**: ID of the company/entity that made the booking or responsible for paying the booking\n",
        "\n",
        "**days_in_waiting_list**: Number of days the booking was in the waiting list before it was confirmed to the customer\n",
        "\n",
        "**customer_type**: Type of booking, assuming one of four categories (Contract,Group,Transient,Transient-party)\n",
        "\n",
        "Contract - when the booking has an allotment or other type of contract associated to it Group – when the booking is associated to a group\n",
        "\n",
        "Transient – when the booking is not part of a group or contract, and is not associated to other transient booking\n",
        "\n",
        "Transient-party – when the booking is transient, but is associated to at least other transient booking\n",
        "\n",
        "**adr**: Average Daily Rate\n",
        "\n",
        "**required_car_parking_spaces**: Number of car parking spaces required by the customer\n",
        "\n",
        "**total_of_special_requests**: Number of special requests made by the customer (e.g. twin bed or high floor)\n",
        "\n",
        "**reservation_status**: Reservation last status, assuming one of three categories\n",
        "\n",
        "Canceled – booking was canceled by the customer\n",
        "\n",
        "Check-Out – customer has checked in but already departed\n",
        "\n",
        "No-Show – customer did not check-in and did inform the hotel of the reason why\n",
        "\n",
        "**reservation_status_date**: Date at which the last status was set"
      ],
      "metadata": {
        "id": "O0tsgKiC4upY"
      }
    },
    {
      "cell_type": "code",
      "source": [
        "#gathering_information\n",
        "df_hotel_booking.info()"
      ],
      "metadata": {
        "id": "DLd9lJX4FcbR",
        "outputId": "8b176bd8-bb39-46be-f193-42a37937d72c",
        "colab": {
          "base_uri": "https://localhost:8080/"
        }
      },
      "execution_count": null,
      "outputs": [
        {
          "output_type": "stream",
          "name": "stdout",
          "text": [
            "<class 'pandas.core.frame.DataFrame'>\n",
            "RangeIndex: 119390 entries, 0 to 119389\n",
            "Data columns (total 32 columns):\n",
            " #   Column                          Non-Null Count   Dtype  \n",
            "---  ------                          --------------   -----  \n",
            " 0   hotel                           119390 non-null  object \n",
            " 1   is_canceled                     119390 non-null  int64  \n",
            " 2   lead_time                       119390 non-null  int64  \n",
            " 3   arrival_date_year               119390 non-null  int64  \n",
            " 4   arrival_date_month              119390 non-null  object \n",
            " 5   arrival_date_week_number        119390 non-null  int64  \n",
            " 6   arrival_date_day_of_month       119390 non-null  int64  \n",
            " 7   stays_in_weekend_nights         119390 non-null  int64  \n",
            " 8   stays_in_week_nights            119390 non-null  int64  \n",
            " 9   adults                          119390 non-null  int64  \n",
            " 10  children                        119386 non-null  float64\n",
            " 11  babies                          119390 non-null  int64  \n",
            " 12  meal                            119390 non-null  object \n",
            " 13  country                         118902 non-null  object \n",
            " 14  market_segment                  119390 non-null  object \n",
            " 15  distribution_channel            119390 non-null  object \n",
            " 16  is_repeated_guest               119390 non-null  int64  \n",
            " 17  previous_cancellations          119390 non-null  int64  \n",
            " 18  previous_bookings_not_canceled  119390 non-null  int64  \n",
            " 19  reserved_room_type              119390 non-null  object \n",
            " 20  assigned_room_type              119390 non-null  object \n",
            " 21  booking_changes                 119390 non-null  int64  \n",
            " 22  deposit_type                    119390 non-null  object \n",
            " 23  agent                           103050 non-null  float64\n",
            " 24  company                         6797 non-null    float64\n",
            " 25  days_in_waiting_list            119390 non-null  int64  \n",
            " 26  customer_type                   119390 non-null  object \n",
            " 27  adr                             119390 non-null  float64\n",
            " 28  required_car_parking_spaces     119390 non-null  int64  \n",
            " 29  total_of_special_requests       119390 non-null  int64  \n",
            " 30  reservation_status              119390 non-null  object \n",
            " 31  reservation_status_date         119390 non-null  object \n",
            "dtypes: float64(4), int64(16), object(12)\n",
            "memory usage: 29.1+ MB\n"
          ]
        }
      ]
    },
    {
      "cell_type": "code",
      "source": [
        "#Copying the dataset\n",
        "df_booking=df_hotel_booking.copy()"
      ],
      "metadata": {
        "id": "70noNzR_HkyC"
      },
      "execution_count": null,
      "outputs": []
    },
    {
      "cell_type": "markdown",
      "source": [
        "# **Data Cleaning**"
      ],
      "metadata": {
        "id": "Pkg_-dL-HrXh"
      }
    },
    {
      "cell_type": "markdown",
      "source": [
        "Cleaning data is neccessary to remove certain ambigous data before entering the EDA,because these data can effect the outome of the EDA\n",
        "\n",
        "While cleaning data we will perform following steps:"
      ],
      "metadata": {
        "id": "t3IpURoKH1bW"
      }
    },
    {
      "cell_type": "markdown",
      "source": [
        "**Step 1**:**Removing duplicate elements if any**"
      ],
      "metadata": {
        "id": "MgR2TWi-H8jj"
      }
    },
    {
      "cell_type": "code",
      "source": [
        "#Showing no.of duplicate rows\n",
        "df_booking[df_booking.duplicated()].shape"
      ],
      "metadata": {
        "id": "gTifHlnRILL9",
        "outputId": "51da8bf4-708e-493d-9201-d6ea69581dc6",
        "colab": {
          "base_uri": "https://localhost:8080/"
        }
      },
      "execution_count": null,
      "outputs": [
        {
          "output_type": "execute_result",
          "data": {
            "text/plain": [
              "(31994, 32)"
            ]
          },
          "metadata": {},
          "execution_count": 31
        }
      ]
    },
    {
      "cell_type": "code",
      "source": [
        "#Droping duplicate values\n",
        "df_booking.drop_duplicates(inplace=True)"
      ],
      "metadata": {
        "id": "04C3jxtfIRTK"
      },
      "execution_count": null,
      "outputs": []
    },
    {
      "cell_type": "code",
      "source": [
        "#checking shape after droping duplicate values\n",
        "df_booking.shape"
      ],
      "metadata": {
        "id": "6XJ39YTwIc7M",
        "outputId": "220d4811-8313-42f8-9695-9ad677c285e6",
        "colab": {
          "base_uri": "https://localhost:8080/"
        }
      },
      "execution_count": null,
      "outputs": [
        {
          "output_type": "execute_result",
          "data": {
            "text/plain": [
              "(87396, 32)"
            ]
          },
          "metadata": {},
          "execution_count": 33
        }
      ]
    },
    {
      "cell_type": "markdown",
      "source": [
        "**Step 2:Handling missing values**"
      ],
      "metadata": {
        "id": "EPgrc88fIt0c"
      }
    },
    {
      "cell_type": "code",
      "source": [
        "## Find the missing value, show the total null values for each column and sort it in descending order\n",
        "df_booking.isnull().sum().sort_values(ascending=False)[:]\n"
      ],
      "metadata": {
        "id": "7_5yVvcfIw8b",
        "outputId": "14705314-1dba-41d1-d79c-64b0f9ddcad0",
        "colab": {
          "base_uri": "https://localhost:8080/"
        }
      },
      "execution_count": null,
      "outputs": [
        {
          "output_type": "execute_result",
          "data": {
            "text/plain": [
              "company                           82137\n",
              "agent                             12193\n",
              "country                             452\n",
              "children                              4\n",
              "reserved_room_type                    0\n",
              "assigned_room_type                    0\n",
              "booking_changes                       0\n",
              "deposit_type                          0\n",
              "hotel                                 0\n",
              "previous_cancellations                0\n",
              "days_in_waiting_list                  0\n",
              "customer_type                         0\n",
              "adr                                   0\n",
              "required_car_parking_spaces           0\n",
              "total_of_special_requests             0\n",
              "reservation_status                    0\n",
              "previous_bookings_not_canceled        0\n",
              "is_repeated_guest                     0\n",
              "is_canceled                           0\n",
              "distribution_channel                  0\n",
              "market_segment                        0\n",
              "meal                                  0\n",
              "babies                                0\n",
              "adults                                0\n",
              "stays_in_week_nights                  0\n",
              "stays_in_weekend_nights               0\n",
              "arrival_date_day_of_month             0\n",
              "arrival_date_week_number              0\n",
              "arrival_date_month                    0\n",
              "arrival_date_year                     0\n",
              "lead_time                             0\n",
              "reservation_status_date               0\n",
              "dtype: int64"
            ]
          },
          "metadata": {},
          "execution_count": 34
        }
      ]
    },
    {
      "cell_type": "markdown",
      "source": [
        "There are some rows with total number of adults, children or babies equal to zero. So we will remove such rows"
      ],
      "metadata": {
        "id": "wkFYts5QI-kk"
      }
    },
    {
      "cell_type": "code",
      "source": [
        "# Drop Rows where there is no adult, baby and child\n",
        "df_book = df_booking.drop(df_booking[(df_booking.adults+df_booking.babies+df_booking.children)==0].index)"
      ],
      "metadata": {
        "id": "sIIZPuCZJIlL"
      },
      "execution_count": null,
      "outputs": []
    },
    {
      "cell_type": "markdown",
      "source": [
        "Since, company and agent columns have comany number and agent numbers as data. There may be some cases when customer didnt booked hotel throught any agent or via any company. So in that case values can be null under these columns. We will replace null values by 0 in these columns"
      ],
      "metadata": {
        "id": "dz9r3EqqJWFy"
      }
    },
    {
      "cell_type": "code",
      "source": [
        "# If no id of agent or company is null, just replace it with 0\n",
        "df_booking[['agent','company']] = df_booking[['agent','company']].fillna(0.0)\n",
        "\n",
        "## For the missing values in the country column, replace it with mode (value that appears most often)\n",
        "df_booking['country'].fillna(df_hotel_booking.country.mode().to_string(), inplace=True)"
      ],
      "metadata": {
        "id": "7t5T769oJcma"
      },
      "execution_count": null,
      "outputs": []
    },
    {
      "cell_type": "markdown",
      "source": [
        "**Step 3: Converting columns to appropriate datatypes**"
      ],
      "metadata": {
        "id": "4GxI9kQCJjtk"
      }
    },
    {
      "cell_type": "code",
      "source": [
        "## for missing children value, replace it with rounded mean value\n",
        "df_booking['children'].fillna(round(df_hotel_booking.children.mean()), inplace=True)\n",
        "# changing datatype of column 'reservation_status_date' to data_type.\n",
        "df_booking['reservation_status_date'] = pd.to_datetime(df_booking['reservation_status_date'], format = '%Y-%m-%d')\n",
        "## convert datatype of these columns from float to integer\n",
        "df_booking[['children', 'company', 'agent']] = df_booking[['children', 'company', 'agent']].astype('int64')"
      ],
      "metadata": {
        "id": "eWc_2H6SJp12"
      },
      "execution_count": null,
      "outputs": []
    },
    {
      "cell_type": "markdown",
      "source": [
        "## **Step 4: Adding important columns**"
      ],
      "metadata": {
        "id": "gYxNIpIhpa3M"
      }
    },
    {
      "cell_type": "code",
      "source": [
        "# Adding total staying days in hotels\n",
        "df_booking['total_stay'] = df_booking['stays_in_weekend_nights']+df_booking['stays_in_week_nights']"
      ],
      "metadata": {
        "id": "l5fOKU0VpfPr"
      },
      "execution_count": null,
      "outputs": []
    },
    {
      "cell_type": "code",
      "source": [
        "# Adding total people num as column, i.e. total people num = num of adults + children + babies\n",
        "df_booking['total_people'] = df_booking['adults']+df_booking['children']+df_booking['babies']"
      ],
      "metadata": {
        "id": "frCmiIeHpmDV"
      },
      "execution_count": null,
      "outputs": []
    },
    {
      "cell_type": "markdown",
      "source": [
        "# **Exploratory Data Analysis(EDA)**"
      ],
      "metadata": {
        "id": "BjZYGHCJJ8qT"
      }
    },
    {
      "cell_type": "markdown",
      "source": [
        "Let's try to extract the informattion from our data and solve the following questions"
      ],
      "metadata": {
        "id": "xvW44O2kKK3-"
      }
    },
    {
      "cell_type": "markdown",
      "source": [
        "## **1. What will the overview of arrival period?**"
      ],
      "metadata": {
        "id": "q7A9lVVSKMlk"
      }
    },
    {
      "cell_type": "code",
      "source": [
        "arrival_data = [ 'arrival_date_year', 'arrival_date_month','arrival_date_day_of_month' ]\n",
        "period_arrival = df_booking[arrival_data]\n",
        "sns.countplot(data = period_arrival, x = 'arrival_date_year')"
      ],
      "metadata": {
        "id": "komOvdI0KalE",
        "outputId": "cf2b5ba7-50b5-4eef-951a-3aa99c81f98d",
        "colab": {
          "base_uri": "https://localhost:8080/",
          "height": 298
        }
      },
      "execution_count": null,
      "outputs": [
        {
          "output_type": "execute_result",
          "data": {
            "text/plain": [
              "<matplotlib.axes._subplots.AxesSubplot at 0x7f53968eb150>"
            ]
          },
          "metadata": {},
          "execution_count": 17
        },
        {
          "output_type": "display_data",
          "data": {
            "text/plain": [
              "<Figure size 432x288 with 1 Axes>"
            ],
            "image/png": "[encoded data removed]"
          },
          "metadata": {
            "needs_background": "light"
          }
        }
      ]
    },
    {
      "cell_type": "markdown",
      "source": [
        "The arrival of peoples in 2016 is double compared to 2015 but has gradually decreased in 2017\n",
        "\n",
        "Now let's show the graphical representation of arrival of peoples according to month and per day"
      ],
      "metadata": {
        "id": "KIvgzoAAKl7g"
      }
    },
    {
      "cell_type": "code",
      "source": [
        "plt.figure(figsize=(20,5))\n",
        "\n",
        "sns.countplot(data = period_arrival, x = 'arrival_date_month', order = ['January', 'February', 'March', 'April', 'May', 'June', 'July',\n",
        "          'August', 'September', 'October', 'November', 'December']).set_title('Graph showing number of arrival per month',fontsize=20)\n",
        "plt.xlabel('Month')\n",
        "plt.ylabel('Count')"
      ],
      "metadata": {
        "id": "w-DcU9Q1Kpf7",
        "outputId": "bad0eec6-1571-47f7-bad8-4a9f3cba8270",
        "colab": {
          "base_uri": "https://localhost:8080/",
          "height": 372
        }
      },
      "execution_count": null,
      "outputs": [
        {
          "output_type": "execute_result",
          "data": {
            "text/plain": [
              "Text(0, 0.5, 'Count')"
            ]
          },
          "metadata": {},
          "execution_count": 16
        },
        {
          "output_type": "display_data",
          "data": {
            "text/plain": [
              "<Figure size 1440x360 with 1 Axes>"
            ],
            "image/png": "[encoded data removed]"
          },
          "metadata": {
            "needs_background": "light"
          }
        }
      ]
    },
    {
      "cell_type": "markdown",
      "source": [
        "Here we can see that the Augest month has the maximum no.of peoples arrived and January has the least peples arrived"
      ],
      "metadata": {
        "id": "Pz_na3jHKzPO"
      }
    },
    {
      "cell_type": "code",
      "source": [
        "plt.figure(figsize=(15,5))\n",
        "\n",
        "sns.countplot(data = period_arrival, x = 'arrival_date_day_of_month', ).set_title('Graph showing number of arrival per day', fontsize = 20)"
      ],
      "metadata": {
        "id": "fgJeJRZoK5UF",
        "outputId": "7ccf4a32-3268-424d-cb7b-22c7ba10a103",
        "colab": {
          "base_uri": "https://localhost:8080/",
          "height": 373
        }
      },
      "execution_count": null,
      "outputs": [
        {
          "output_type": "execute_result",
          "data": {
            "text/plain": [
              "Text(0.5, 1.0, 'Graph showing number of arrival per day')"
            ]
          },
          "metadata": {},
          "execution_count": 17
        },
        {
          "output_type": "display_data",
          "data": {
            "text/plain": [
              "<Figure size 1080x360 with 1 Axes>"
            ],
            "image/png": "[encoded data removed]"
          },
          "metadata": {
            "needs_background": "light"
          }
        }
      ]
    },
    {
      "cell_type": "markdown",
      "source": [
        "As shown in the graph the second day is having maximum arrival and 31st as the least\n",
        "\n"
      ],
      "metadata": {
        "id": "DM3N7EMIK_ZM"
      }
    },
    {
      "cell_type": "markdown",
      "source": [
        "## **2:From which country most guests come?**\n",
        "\n"
      ],
      "metadata": {
        "id": "1bJ0u6rELEsK"
      }
    },
    {
      "cell_type": "code",
      "source": [
        "sns.barplot (y= list(df_book.country.value_counts().head (10)), x= list(df_book.country.value_counts().head(10).index))"
      ],
      "metadata": {
        "id": "eyfTguz3LWYv",
        "outputId": "09dd6e59-9fcd-493f-e69c-9aff9d4df7b0",
        "colab": {
          "base_uri": "https://localhost:8080/",
          "height": 282
        }
      },
      "execution_count": null,
      "outputs": [
        {
          "output_type": "execute_result",
          "data": {
            "text/plain": [
              "<matplotlib.axes._subplots.AxesSubplot at 0x7f3a8f7c64d0>"
            ]
          },
          "metadata": {},
          "execution_count": 15
        },
        {
          "output_type": "display_data",
          "data": {
            "text/plain": [
              "<Figure size 432x288 with 1 Axes>"
            ],
            "image/png": "[encoded data removed]"
          },
          "metadata": {
            "needs_background": "light"
          }
        }
      ]
    },
    {
      "cell_type": "markdown",
      "source": [
        "Portugal, United kingdom ,France, Spain and Germany are the top countries from most guests come,from which portugal has the highest number of peoples.More than 80% come from Portugal, United kingdom ,France, Spain and Germany."
      ],
      "metadata": {
        "id": "xdIsDJLJvsOz"
      }
    },
    {
      "cell_type": "markdown",
      "source": [
        "## **3:Which room type is most booked?**"
      ],
      "metadata": {
        "id": "GZFIVyEeMFwO"
      }
    },
    {
      "cell_type": "code",
      "source": [
        "#set plotsize\n",
        "plt.figure(figsize=(18,8))\n",
        "#plotting \n",
        "sns.countplot(x=df_booking['assigned_room_type'],order=df_booking['assigned_room_type'].value_counts().index)\n",
        "#  set xlabel for the plot\n",
        "plt.xlabel('Room Type')\n",
        "# set y label for the plot\n",
        "plt.ylabel('Room Type count')\n",
        "#set title for the plot\n",
        "plt.title(\"Most preferred Room type\")"
      ],
      "metadata": {
        "id": "xvgN-S5GMU6Y",
        "outputId": "1bc7b5b5-3105-40a4-b886-3177f2f01d13",
        "colab": {
          "base_uri": "https://localhost:8080/",
          "height": 530
        }
      },
      "execution_count": null,
      "outputs": [
        {
          "output_type": "execute_result",
          "data": {
            "text/plain": [
              "Text(0.5, 1.0, 'Most preferred Room type')"
            ]
          },
          "metadata": {},
          "execution_count": 19
        },
        {
          "output_type": "display_data",
          "data": {
            "text/plain": [
              "<Figure size 1296x576 with 1 Axes>"
            ],
            "image/png": "[encoded data removed]"
          },
          "metadata": {
            "needs_background": "light"
          }
        }
      ]
    },
    {
      "cell_type": "markdown",
      "source": [
        "'A' type room is preferred by majority of people which booking rooms"
      ],
      "metadata": {
        "id": "T_Ge9_1UMi72"
      }
    },
    {
      "cell_type": "markdown",
      "source": [
        "## **4:Find the Distribution channel with high cancelation_percentage(%)?**"
      ],
      "metadata": {
        "id": "-M4LTobiN_Er"
      }
    },
    {
      "cell_type": "code",
      "source": [
        "# 1= canceled\n",
        " # 0 = not canceled\n",
        "canceled_booking=df_booking[df_booking['is_canceled']==1]\n",
        "\n",
        "#groupby distribution channel and hotel \n",
        "# droping undefined as its has only 4 values and we cant predict much about that data\n",
        "canceled_booking=canceled_booking.groupby(['distribution_channel','hotel']).size().drop(index = 'Undefined').reset_index().rename(columns={0:'Counts'})\n",
        "# adding 'total booking column for calculating the percentage.\n",
        "canceled_booking['total_bookings']=df_booking.groupby(['distribution_channel','hotel']).size().drop(index = 'Undefined').reset_index().rename(columns={0:\"total_bookings\"}).drop(['distribution_channel','hotel'],axis=1)\n",
        "canceled_booking\n",
        "#set plot size and plot barchart (visualization)\n",
        "plt.figure(figsize=(12,8))\n",
        "sns.barplot(x='distribution_channel',y=canceled_booking['Counts']*100/canceled_booking['total_bookings'],hue=\"hotel\",data=canceled_booking)\n",
        "\n",
        "# set labels\n",
        "plt.xlabel('Distribution channels')\n",
        "plt.ylabel('percentage canceletion')\n",
        "plt.title('Cancellation Rate across Distribution channels')"
      ],
      "metadata": {
        "id": "XCiGvOVVPRCQ",
        "outputId": "afef200a-c11a-41bb-df92-a0d45bcae105",
        "colab": {
          "base_uri": "https://localhost:8080/",
          "height": 530
        }
      },
      "execution_count": null,
      "outputs": [
        {
          "output_type": "execute_result",
          "data": {
            "text/plain": [
              "Text(0.5, 1.0, 'Cancellation Rate across Distribution channels')"
            ]
          },
          "metadata": {},
          "execution_count": 21
        },
        {
          "output_type": "display_data",
          "data": {
            "text/plain": [
              "<Figure size 864x576 with 1 Axes>"
            ],
            "image/png": "[encoded data removed]"
          },
          "metadata": {
            "needs_background": "light"
          }
        }
      ]
    },
    {
      "cell_type": "markdown",
      "source": [
        "TA/TO has the highest cancellation percentage.In city hotel it is 35% and in resort hotel it is 28%"
      ],
      "metadata": {
        "id": "Of4gvnelUTZ9"
      }
    },
    {
      "cell_type": "markdown",
      "source": [
        "## **5:Which meal type is most preffered meal of customers?**\n"
      ],
      "metadata": {
        "id": "qh1umew2P27y"
      }
    },
    {
      "cell_type": "code",
      "source": [
        "import seaborn as sns\n",
        "#sns.set(style=\"dark\")\n",
        "\n",
        "plt.figure( figsize=(10, 4))\n",
        "\n",
        "sns.countplot(x = 'meal', data=df_booking, color= 'red' )\n",
        "plt.show()"
      ],
      "metadata": {
        "id": "aG7YX2diQQIX",
        "outputId": "8902e801-19f4-4e93-8632-18bdae01264d",
        "colab": {
          "base_uri": "https://localhost:8080/",
          "height": 279
        }
      },
      "execution_count": null,
      "outputs": [
        {
          "output_type": "display_data",
          "data": {
            "text/plain": [
              "<Figure size 720x288 with 1 Axes>"
            ],
            "image/png": "[encoded data removed]"
          },
          "metadata": {
            "needs_background": "light"
          }
        }
      ]
    },
    {
      "cell_type": "markdown",
      "source": [
        "From this question we can take a result that most common type of meal is BB and Least common is undefined.\n",
        "\n"
      ],
      "metadata": {
        "id": "cIRF59VYQelX"
      }
    },
    {
      "cell_type": "markdown",
      "source": [
        "## **6:Obtain the number of Adults reserving , and the number of Families with children reserving**"
      ],
      "metadata": {
        "id": "O8mZZmg2QhB3"
      }
    },
    {
      "cell_type": "code",
      "source": [
        "plt.figure( figsize=(12, 12))\n",
        "#c =['blue',\"red\"]\n",
        "graph = sns.countplot(x=\"adults\",hue='hotel',  data =df_booking)  \n",
        "#sns.sexlat_style(\"dark\")\n",
        "graph.set(title=\"Number of Adults Reserving\")\n",
        "graph.set_xlabel(\"Number of Adults\", fontsize=12)\n",
        "graph.set_ylabel(\"Reservation count\", fontsize=12)"
      ],
      "metadata": {
        "id": "xzGKPVIoQ4iR",
        "outputId": "2a20487a-84bf-4f3a-f637-b6d14e5031ac",
        "colab": {
          "base_uri": "https://localhost:8080/",
          "height": 750
        }
      },
      "execution_count": null,
      "outputs": [
        {
          "output_type": "execute_result",
          "data": {
            "text/plain": [
              "Text(0, 0.5, 'Reservation count')"
            ]
          },
          "metadata": {},
          "execution_count": 23
        },
        {
          "output_type": "display_data",
          "data": {
            "text/plain": [
              "<Figure size 864x864 with 1 Axes>"
            ],
            "image/png": "[encoded data removed]"
          },
          "metadata": {}
        }
      ]
    },
    {
      "cell_type": "code",
      "source": [
        "plt.figure( figsize=(12, 12))\n",
        "#c =['blue',\"red\"]\n",
        "graph = sns.countplot(x=\"children\", hue= 'hotel', data =df_booking)  \n",
        "graph.set(title=\"Number of Families with Children Reverving\")\n",
        "graph.set_xlabel(\"Number of Families with Children\", fontsize=12)\n",
        "graph.set_ylabel(\"Reservation count\", fontsize=12)"
      ],
      "metadata": {
        "id": "Ylj_x-mVRJJn",
        "outputId": "64171d4c-7584-43bc-9415-266836ecd753",
        "colab": {
          "base_uri": "https://localhost:8080/",
          "height": 750
        }
      },
      "execution_count": null,
      "outputs": [
        {
          "output_type": "execute_result",
          "data": {
            "text/plain": [
              "Text(0, 0.5, 'Reservation count')"
            ]
          },
          "metadata": {},
          "execution_count": 24
        },
        {
          "output_type": "display_data",
          "data": {
            "text/plain": [
              "<Figure size 864x864 with 1 Axes>"
            ],
            "image/png": "[encoded data removed]"
          },
          "metadata": {}
        }
      ]
    },
    {
      "cell_type": "markdown",
      "source": [
        "From above two graph,in the first graph the adult with pair has most reservations and in the second graph adults with zero children is having most booking,so we can conclude that the adults without children has more booking"
      ],
      "metadata": {
        "id": "SZg4Ob7BoICJ"
      }
    },
    {
      "cell_type": "markdown",
      "source": [
        "## **7:What is percentage of bookings in each hotel?**"
      ],
      "metadata": {
        "id": "zy9OCuwxRYJp"
      }
    },
    {
      "cell_type": "code",
      "source": [
        "grouped_by_hotel = df_booking.groupby('hotel')\n",
        "d1 = pd.DataFrame((grouped_by_hotel.size()/df_booking.shape[0])*100).reset_index().rename(columns = {0:'Booking %'})      #Calculating percentage\n",
        "plt.figure(figsize = (8,5))\n",
        "sns.barplot(x = d1['hotel'], y = d1['Booking %'] )\n",
        "plt.show()"
      ],
      "metadata": {
        "id": "tznsBjZRSbiA",
        "outputId": "8ab53156-0f7e-494e-aab9-2bf05468b489",
        "colab": {
          "base_uri": "https://localhost:8080/",
          "height": 334
        }
      },
      "execution_count": null,
      "outputs": [
        {
          "output_type": "display_data",
          "data": {
            "text/plain": [
              "<Figure size 576x360 with 1 Axes>"
            ],
            "image/png": "[encoded data removed]"
          },
          "metadata": {}
        }
      ]
    },
    {
      "cell_type": "markdown",
      "source": [
        "The percentage of booking of City hotel is 60% and the percentage in Resort hotel comes down to 36% "
      ],
      "metadata": {
        "id": "ipc9WhXcS4Go"
      }
    },
    {
      "cell_type": "markdown",
      "source": [
        "## **8: Which agent makes most no. of bookings??**"
      ],
      "metadata": {
        "id": "vcP7TnZFWm7r"
      }
    },
    {
      "cell_type": "code",
      "source": [
        "d1 = pd.DataFrame(df_booking['agent'].value_counts()).reset_index().rename(columns = {'index':'agent','agent':'num_of_bookings'}).sort_values(by = 'num_of_bookings', ascending = False)\n",
        "d1.drop(d1[d1['agent'] == 0].index, inplace = True)            # 0 represents that booking is not made by an agent\n",
        "d1 = d1[:10]                                                   # Selecting top 10 performing agents\n",
        "plt.figure(figsize = (10,5))\n",
        "sns.barplot(x = 'agent', y = 'num_of_bookings', data = d1, order = d1.sort_values('num_of_bookings', ascending = False).agent)"
      ],
      "metadata": {
        "colab": {
          "base_uri": "https://localhost:8080/",
          "height": 351
        },
        "id": "f6-pMzOsRvG0",
        "outputId": "f2aaae9f-5fbd-46c8-e6c8-835b39d46b11"
      },
      "execution_count": null,
      "outputs": [
        {
          "output_type": "execute_result",
          "data": {
            "text/plain": [
              "<matplotlib.axes._subplots.AxesSubplot at 0x7f94e8d03750>"
            ]
          },
          "metadata": {},
          "execution_count": 12
        },
        {
          "output_type": "display_data",
          "data": {
            "text/plain": [
              "<Figure size 720x360 with 1 Axes>"
            ],
            "image/png": "[encoded data removed]"
          },
          "metadata": {
            "needs_background": "light"
          }
        }
      ]
    },
    {
      "cell_type": "markdown",
      "source": [
        "Agent '9.0' has the most no.of booking above 30000 bookings and  agent' 8.0' with least no.of bookings"
      ],
      "metadata": {
        "id": "MXskCBZMTNpi"
      }
    },
    {
      "cell_type": "markdown",
      "source": [
        "## **9:What is the percentage of the repeated customers?**"
      ],
      "metadata": {
        "id": "9PgE3y5Jwty6"
      }
    },
    {
      "cell_type": "code",
      "source": [
        "#Showing the  percentage of repeated customers \n",
        "repeated_cust = df_book.groupby('is_repeated_guest')\n",
        "df1 = pd.DataFrame(round((repeated_cust.size()/df_book.shape[0])*100,2)).reset_index().rename(columns = {0: 'Booking_%'})\n",
        "labels = 'new guests','repeated guest'\n",
        "df1"
      ],
      "metadata": {
        "colab": {
          "base_uri": "https://localhost:8080/",
          "height": 112
        },
        "id": "-YalMlUDwzJS",
        "outputId": "cdaf8d63-ee98-491e-9c66-3f102dbf5972"
      },
      "execution_count": null,
      "outputs": [
        {
          "output_type": "execute_result",
          "data": {
            "text/plain": [
              "   is_repeated_guest  Booking_%\n",
              "0                  0      96.14\n",
              "1                  1       3.86"
            ],
            "text/html": [
              "\n",
              "  <div id=\"df-a6567cd0-b15c-4c04-9da5-026bb022b4ef\">\n",
              "    <div class=\"colab-df-container\">\n",
              "      <div>\n",
              "<style scoped>\n",
              "    .dataframe tbody tr th:only-of-type {\n",
              "        vertical-align: middle;\n",
              "    }\n",
              "\n",
              "    .dataframe tbody tr th {\n",
              "        vertical-align: top;\n",
              "    }\n",
              "\n",
              "    .dataframe thead th {\n",
              "        text-align: right;\n",
              "    }\n",
              "</style>\n",
              "<table border=\"1\" class=\"dataframe\">\n",
              "  <thead>\n",
              "    <tr style=\"text-align: right;\">\n",
              "      <th></th>\n",
              "      <th>is_repeated_guest</th>\n",
              "      <th>Booking_%</th>\n",
              "    </tr>\n",
              "  </thead>\n",
              "  <tbody>\n",
              "    <tr>\n",
              "      <th>0</th>\n",
              "      <td>0</td>\n",
              "      <td>96.14</td>\n",
              "    </tr>\n",
              "    <tr>\n",
              "      <th>1</th>\n",
              "      <td>1</td>\n",
              "      <td>3.86</td>\n",
              "    </tr>\n",
              "  </tbody>\n",
              "</table>\n",
              "</div>\n",
              "      <button class=\"colab-df-convert\" onclick=\"convertToInteractive('df-a6567cd0-b15c-4c04-9da5-026bb022b4ef')\"\n",
              "              title=\"Convert this dataframe to an interactive table.\"\n",
              "              style=\"display:none;\">\n",
              "        \n",
              "  <svg xmlns=\"http://www.w3.org/2000/svg\" height=\"24px\"viewBox=\"0 0 24 24\"\n",
              "       width=\"24px\">\n",
              "    <path d=\"M0 0h24v24H0V0z\" fill=\"none\"/>\n",
              "    <path d=\"M18.56 5.44l.94 2.06.94-2.06 2.06-.94-2.06-.94-.94-2.06-.94 2.06-2.06.94zm-11 1L8.5 8.5l.94-2.06 2.06-.94-2.06-.94L8.5 2.5l-.94 2.06-2.06.94zm10 10l.94 2.06.94-2.06 2.06-.94-2.06-.94-.94-2.06-.94 2.06-2.06.94z\"/><path d=\"M17.41 7.96l-1.37-1.37c-.4-.4-.92-.59-1.43-.59-.52 0-1.04.2-1.43.59L10.3 9.45l-7.72 7.72c-.78.78-.78 2.05 0 2.83L4 21.41c.39.39.9.59 1.41.59.51 0 1.02-.2 1.41-.59l7.78-7.78 2.81-2.81c.8-.78.8-2.07 0-2.86zM5.41 20L4 18.59l7.72-7.72 1.47 1.35L5.41 20z\"/>\n",
              "  </svg>\n",
              "      </button>\n",
              "      \n",
              "  <style>\n",
              "    .colab-df-container {\n",
              "      display:flex;\n",
              "      flex-wrap:wrap;\n",
              "      gap: 12px;\n",
              "    }\n",
              "\n",
              "    .colab-df-convert {\n",
              "      background-color: #E8F0FE;\n",
              "      border: none;\n",
              "      border-radius: 50%;\n",
              "      cursor: pointer;\n",
              "      display: none;\n",
              "      fill: #1967D2;\n",
              "      height: 32px;\n",
              "      padding: 0 0 0 0;\n",
              "      width: 32px;\n",
              "    }\n",
              "\n",
              "    .colab-df-convert:hover {\n",
              "      background-color: #E2EBFA;\n",
              "      box-shadow: 0px 1px 2px rgba(60, 64, 67, 0.3), 0px 1px 3px 1px rgba(60, 64, 67, 0.15);\n",
              "      fill: #174EA6;\n",
              "    }\n",
              "\n",
              "    [theme=dark] .colab-df-convert {\n",
              "      background-color: #3B4455;\n",
              "      fill: #D2E3FC;\n",
              "    }\n",
              "\n",
              "    [theme=dark] .colab-df-convert:hover {\n",
              "      background-color: #434B5C;\n",
              "      box-shadow: 0px 1px 3px 1px rgba(0, 0, 0, 0.15);\n",
              "      filter: drop-shadow(0px 1px 2px rgba(0, 0, 0, 0.3));\n",
              "      fill: #FFFFFF;\n",
              "    }\n",
              "  </style>\n",
              "\n",
              "      <script>\n",
              "        const buttonEl =\n",
              "          document.querySelector('#df-a6567cd0-b15c-4c04-9da5-026bb022b4ef button.colab-df-convert');\n",
              "        buttonEl.style.display =\n",
              "          google.colab.kernel.accessAllowed ? 'block' : 'none';\n",
              "\n",
              "        async function convertToInteractive(key) {\n",
              "          const element = document.querySelector('#df-a6567cd0-b15c-4c04-9da5-026bb022b4ef');\n",
              "          const dataTable =\n",
              "            await google.colab.kernel.invokeFunction('convertToInteractive',\n",
              "                                                     [key], {});\n",
              "          if (!dataTable) return;\n",
              "\n",
              "          const docLinkHtml = 'Like what you see? Visit the ' +\n",
              "            '<a target=\"_blank\" href=https://colab.research.google.com/notebooks/data_table.ipynb>data table notebook</a>'\n",
              "            + ' to learn more about interactive tables.';\n",
              "          element.innerHTML = '';\n",
              "          dataTable['output_type'] = 'display_data';\n",
              "          await google.colab.output.renderOutput(dataTable, element);\n",
              "          const docLink = document.createElement('div');\n",
              "          docLink.innerHTML = docLinkHtml;\n",
              "          element.appendChild(docLink);\n",
              "        }\n",
              "      </script>\n",
              "    </div>\n",
              "  </div>\n",
              "  "
            ]
          },
          "metadata": {},
          "execution_count": 16
        }
      ]
    },
    {
      "cell_type": "markdown",
      "source": [
        "3.86 is the the booking percentage of repeated guests and the percentage of new guests is 96.14"
      ],
      "metadata": {
        "id": "ti__XJYFxBpv"
      }
    },
    {
      "cell_type": "code",
      "source": [
        "#Showing the pie plot\n",
        "plt.figure(figsize=(8,8))\n",
        "plt.pie(df1['Booking_%'],labels=labels)\n",
        "plt.title('Percentage of reapeated guests',fontsize =18)"
      ],
      "metadata": {
        "colab": {
          "base_uri": "https://localhost:8080/",
          "height": 503
        },
        "id": "p0E7xbpbxDRA",
        "outputId": "47564592-3ccd-4695-af5a-6e74dc802222"
      },
      "execution_count": null,
      "outputs": [
        {
          "output_type": "execute_result",
          "data": {
            "text/plain": [
              "Text(0.5, 1.0, 'Percentage of reapeated guests')"
            ]
          },
          "metadata": {},
          "execution_count": 17
        },
        {
          "output_type": "display_data",
          "data": {
            "text/plain": [
              "<Figure size 576x576 with 1 Axes>"
            ],
            "image/png": "[encoded data removed]"
          },
          "metadata": {}
        }
      ]
    },
    {
      "cell_type": "markdown",
      "source": [
        "## **10:What is preferred stay length in each hotel?**"
      ],
      "metadata": {
        "id": "RgD9TJiYxP3L"
      }
    },
    {
      "cell_type": "code",
      "source": [
        "not_canceled = df_booking[df_booking['is_canceled'] == 0]\n",
        "s1 = not_canceled[not_canceled['total_stay'] < 15]\n",
        "plt.figure(figsize = (10,5))\n",
        "sns.countplot(x = s1['total_stay'], hue = s1['hotel'])\n",
        "plt.show()"
      ],
      "metadata": {
        "colab": {
          "base_uri": "https://localhost:8080/",
          "height": 335
        },
        "id": "irOeKPTrrp9g",
        "outputId": "4f42e2fa-2b0b-45c2-ec54-3a061f135b27"
      },
      "execution_count": null,
      "outputs": [
        {
          "output_type": "display_data",
          "data": {
            "text/plain": [
              "<Figure size 720x360 with 1 Axes>"
            ],
            "image/png": "[encoded data removed]"
          },
          "metadata": {
            "needs_background": "light"
          }
        }
      ]
    },
    {
      "cell_type": "markdown",
      "source": [
        "Most common stay length is less than 4 days and generally people prefer City hotel for short stay, but for long stays, Resort Hotel is preferred.\n",
        "\n"
      ],
      "metadata": {
        "id": "kOvCyzp6r-Be"
      }
    },
    {
      "cell_type": "markdown",
      "source": [
        "## **11: Which hotel has high chance that its customer will return for another stay?**"
      ],
      "metadata": {
        "id": "MGmkhgdtsAja"
      }
    },
    {
      "cell_type": "code",
      "source": [
        "# Selecting and counting repeated customers bookings\n",
        "repeated_data = df_booking[df_booking['is_repeated_guest'] == 1]\n",
        "repeat_grp = repeated_data.groupby('hotel')\n",
        "D1 = pd.DataFrame(repeat_grp.size()).rename(columns = {0:'total_repeated_guests'})\n",
        "\n",
        "# Counting total bookings\n",
        "total_booking = grouped_by_hotel.size()\n",
        "D2 = pd.DataFrame(total_booking).rename(columns = {0: 'total_bookings'})\n",
        "D3 = pd.concat([D1,D2], axis = 1)\n",
        "\n",
        "# Calculating repeat %\n",
        "D3['repeat_%'] = round((D3['total_repeated_guests']/D3['total_bookings'])*100,2)\n",
        "\n",
        "plt.figure(figsize = (10,5))\n",
        "sns.barplot(x = D3.index, y = D3['repeat_%'])\n",
        "plt.show()"
      ],
      "metadata": {
        "colab": {
          "base_uri": "https://localhost:8080/",
          "height": 334
        },
        "id": "ydBbfA_puUgJ",
        "outputId": "65ddbe87-d07d-4603-de94-bc92e2e140b1"
      },
      "execution_count": null,
      "outputs": [
        {
          "output_type": "display_data",
          "data": {
            "text/plain": [
              "<Figure size 720x360 with 1 Axes>"
            ],
            "image/png": "[encoded data removed]"
          },
          "metadata": {
            "needs_background": "light"
          }
        }
      ]
    },
    {
      "cell_type": "markdown",
      "source": [
        "### Both hotels have very small percentage that customer will repeat, but Resort hotel has slightly higher repeat % than City Hotel."
      ],
      "metadata": {
        "id": "RmF4ZmB3vDhP"
      }
    },
    {
      "cell_type": "markdown",
      "source": [
        "# **Conclusion**\n",
        "\n",
        "We used the dataset that contains data about hotel bookings\n",
        "\n",
        "We cleaned the data and then we performed the exploratory data analysis to extract information from the data to answer the following questions."
      ],
      "metadata": {
        "id": "FhNkIlkGvmmj"
      }
    },
    {
      "cell_type": "markdown",
      "source": [
        "1:What will the overview of arrival period?\n",
        "\n",
        "2:From which country most guests come?\n",
        "\n",
        "3:Which room type is most booked?\n",
        "\n",
        "4:Find the Distribution channel with high cancelation_percentage(%)?\n",
        "\n",
        "5:Which meal type is most preffered meal of customers?\n",
        "\n",
        "6:Obtain the number of Adults reserving , and the number of Families with children reserving\n",
        "\n",
        "7:What is percentage of bookings in each hotel?\n",
        "\n",
        "8: Which agent makes most no. of bookings?\n",
        "\n",
        "9:What is the percentage of the repeated customers?\n",
        "\n",
        "10:What is preferred stay length in each hotel?\n",
        "\n",
        "11: Which hotel has high chance that its customer will return for another stay?"
      ],
      "metadata": {
        "id": "NuxM0XIsyrDm"
      }
    },
    {
      "cell_type": "markdown",
      "source": [
        "**We learned that**"
      ],
      "metadata": {
        "id": "WL43gKB9yvZa"
      }
    },
    {
      "cell_type": "markdown",
      "source": [
        "1:The arrival of peoples in 2016 is double compared to 2015 but has gradually decreased in 2017and in the monthly arrival we can see that the Augest month has the maximum no.of peoples arrived and January has the least peples arrived.As shown in the graph the second day is having maximum arrival and 31st as the least.\n",
        "\n",
        "2:Portugal, United kingdom ,France, Spain and Germany are the top countries from most guests come,from which portugal has the highest number of peoples.More than 80% come from Portugal, United kingdom ,France, Spain and Germany.\n",
        "\n",
        "3:'A' type room is preferred by majority of people which booking rooms\n",
        "\n",
        "4:TA/TO has the highest cancellation percentage.In city hotel it is 35% and in resort hotel it is 28%\n",
        "\n",
        "5:From this question we can take a result that most common type of meal is BB and Least common is undefined.\n",
        "\n",
        "6:From above two graph,in the first graph the adult with pair has most reservations and in the second graph adults with zero children is having most booking,so we can conclude that the adults without children has more booking\n",
        "\n",
        "\n",
        "\n",
        "7:The percentage of booking of City hotel is 60% and the percentage in Resort hotel comes down to 36%.\n",
        "\n",
        "8:Agent '9.0' has the most no.of booking above 30000 bookings and agent' 8.0' with least no.of bookings.\n",
        "\n",
        "9:3.86 is the the booking percentage of repeated guests and the percentage of new guests is 96.14\n",
        "\n",
        "10:Most common stay length is less than 4 days and generally people prefer City hotel for short stay, but for long stays, Resort Hotel is preferred.\n",
        "\n",
        "11:Both hotels have very small percentage that customer will repeat, but Resort hotel has slightly higher repeat % than City Hotel.\n",
        "\n",
        "\n",
        "\n"
      ],
      "metadata": {
        "id": "bNcwmFc7y6w9"
      }
    }
  ]
}